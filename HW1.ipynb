{
 "cells": [
  {
   "cell_type": "markdown",
   "metadata": {},
   "source": [
    "\n",
    "\n",
    "Name: Kevin Paganini    \n",
    "Class: MA 3320 001   \n",
    "Problem: PA 1    \n",
    "Date: 12.6.2022       \n",
    "Professor: Dr. Cox   \n"
   ]
  },
  {
   "cell_type": "markdown",
   "metadata": {},
   "source": [
    "### Problem 6: Use a direct proof to show that the product of two odd numbers is odd."
   ]
  },
  {
   "cell_type": "markdown",
   "metadata": {},
   "source": [
    "The product of two odd numbers is odd\n",
    "\n",
    "### Standard Form:        \n",
    "For all odd integers a and b, the product of a and b is odd.       \n",
    "  \n",
    "### Analysis:    \n",
    "Odd integer * Odd integer = Odd integer     \n",
    "(2k+1) * (2j+1) = 2m+1    \n",
    "4kj+2k+2j+1 = 2m+1     \n",
    "2(2kj+k+j)+1 #this is an odd integer    \n",
    "\n",
    "\n",
    "### Proof:   \n",
    "Let a be some odd integer. Let b be some odd integer. This means a is equivalent to 2k + 1 for some integer k.    \n",
    "This means b is equivalent to 2j + 1 for some integer j. Which is:   \n",
    "$$\n",
    "a+b = (2k+1)*(2j+1)\n",
    "$$     \n",
    "This can be rewritten as:   \n",
    "$$\n",
    "4kj+2k+2j+1\n",
    "$$    \n",
    "Factoring out a 2 we get: \n",
    "$$\n",
    "2(2kj+k+j)+1\n",
    "$$\n",
    "Since k and j are both integers and integers are closed under addition and multiplication, $(2kj+k+j)$ is an integer.    \n",
    "Therefore, we have expressed that the product of two odd numbers is odd. "
   ]
  },
  {
   "cell_type": "markdown",
   "metadata": {},
   "source": []
  }
 ],
 "metadata": {
  "kernelspec": {
   "display_name": "Python 3.10.7 64-bit",
   "language": "python",
   "name": "python3"
  },
  "language_info": {
   "name": "python",
   "version": "3.10.7"
  },
  "orig_nbformat": 4,
  "vscode": {
   "interpreter": {
    "hash": "369f2c481f4da34e4445cda3fffd2e751bd1c4d706f27375911949ba6bb62e1c"
   }
  }
 },
 "nbformat": 4,
 "nbformat_minor": 2
}
