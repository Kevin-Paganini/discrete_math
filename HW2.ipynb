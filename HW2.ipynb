{
 "cells": [
  {
   "cell_type": "markdown",
   "metadata": {},
   "source": [
    "\n",
    "Name: Kevin Paganini    \n",
    "Class: MA 3320 001   \n",
    "Problem: PA 2    \n",
    "Date: 12.13.2022       \n",
    "Professor: Dr. Cox"
   ]
  },
  {
   "cell_type": "markdown",
   "metadata": {},
   "source": [
    "### 20a. Prove that if n is an integer and 3n + 2 is even,    then n is even using a proof by contraposition.   "
   ]
  },
  {
   "cell_type": "markdown",
   "metadata": {},
   "source": [
    "### Standard Form"
   ]
  },
  {
   "cell_type": "markdown",
   "metadata": {},
   "source": [
    "For all integers n, if 3n + 2 is even then n is even."
   ]
  },
  {
   "cell_type": "markdown",
   "metadata": {},
   "source": [
    "### Analysis\n",
    "Contraposition"
   ]
  },
  {
   "cell_type": "markdown",
   "metadata": {},
   "source": [
    "p  --> q   \n",
    "q' --> p'   \n",
    "\n",
    "p = 3n + 2 is even   \n",
    "q = n is even   \n",
    "p' = 3n + 2 is odd   \n",
    "q' = n is odd    \n",
    "\n",
    "Full contraposition: For all integers n, If n is odd then 3n + 2 is odd.    \n",
    "\n",
    "\n",
    "### Proof"
   ]
  },
  {
   "cell_type": "markdown",
   "metadata": {},
   "source": [
    "Let $n$ be an odd integer. This means that $n$ is equal to $2k + 1$ for some integer $k$.     \n",
    "$$\n",
    "n = 2k + 1\\\\\n",
    "k \\epsilon ℤ\n",
    "$$"
   ]
  },
  {
   "cell_type": "markdown",
   "metadata": {},
   "source": [
    "Since n is equal to $2k + 1$. The equation can be rewritten as follows:  \n",
    "$$\n",
    "3(2k+1) + 2\n",
    "$$    \n",
    "Or like so: \n",
    "$$\n",
    "6k + 4 + 1\n",
    "$$\n",
    "After factoring out a 2 from the first two arguments we get:   \n",
    "$$\n",
    "2(3k+2) + 1\n",
    "$$\n",
    "\n",
    "By closure of ℤ under addition and multiplication, $(3k+2)$ is in the set of ℤ.   \n",
    "Thus, we have proven the contrapositive. "
   ]
  },
  {
   "cell_type": "markdown",
   "metadata": {},
   "source": [
    "### 4. Prove that part (iii) of Theorem 1 is true.\n",
    "![part 3 of theorem 1](HW2P258No4.jpg)"
   ]
  },
  {
   "cell_type": "markdown",
   "metadata": {},
   "source": [
    "### Analysis:   \n",
    "a | b = b = ak for some integer k     \n",
    "Goal: c = a * some integer d     \n",
    "### Standard Form\n",
    "For all integer a, b, c if a | b and b | c, then a | c.\n",
    "\n",
    "\n",
    "### Proof\n",
    "\n",
    "Let a, b, c be in the set of ℤ. Assume that a | b and b | c. This is equivalent to:   \n",
    "1. $b = ak$, for some $k \\epsilon ℤ\\\\$\n",
    "2. $c = bm$, for some $m \\epsilon ℤ\\\\$   \n",
    "\n",
    "Since b is equal to $ak$, b can be replaced in the second equation.    \n",
    "  \n",
    "3. $c = (ak)m$ or more usefully: $c = a(km)$\n",
    "\n",
    "By closure of ℤ under multiplication $km$ is an integer. Therefore, we have shown that if    \n",
    "a | b and b | c then a | c."
   ]
  },
  {
   "cell_type": "markdown",
   "metadata": {},
   "source": []
  }
 ],
 "metadata": {
  "kernelspec": {
   "display_name": "Python 3.10.7 ('venv': venv)",
   "language": "python",
   "name": "python3"
  },
  "language_info": {
   "name": "python",
   "version": "3.10.7 (tags/v3.10.7:6cc6b13, Sep  5 2022, 14:08:36) [MSC v.1933 64 bit (AMD64)]"
  },
  "orig_nbformat": 4,
  "vscode": {
   "interpreter": {
    "hash": "b8e6c6184714cc602b3105ed1d714e3d882cc05c3a704d1f7f2d44a77c2d128e"
   }
  }
 },
 "nbformat": 4,
 "nbformat_minor": 2
}
