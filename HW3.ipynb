{
 "cells": [
  {
   "attachments": {},
   "cell_type": "markdown",
   "metadata": {},
   "source": [
    "\n",
    "Name: Kevin Paganini    \n",
    "Class: MA 3320 001   \n",
    "Problem: PA 3    \n",
    "Date: 1.12.2023       \n",
    "Professor: Dr. Cox\n"
   ]
  },
  {
   "attachments": {},
   "cell_type": "markdown",
   "metadata": {},
   "source": [
    "### Problem 42\n",
    "Show that if the first 10 positive integers are placed around a circle, in any order, there exist three integers in consecutive locations around the circle that have a sum greater than or equal to 17."
   ]
  },
  {
   "attachments": {},
   "cell_type": "markdown",
   "metadata": {},
   "source": [
    "Analysis:    \n",
    "\n",
    "Integers to choose from: 1, 2, 3, 4, 5, 6, 7, 8, 9, 10     \n",
    "\n",
    "9 x x 8 x x 10 x x x (1)\n",
    "\n",
    "9 x x 8 x x 7 x x 10\n",
    "\n",
    "x x x 9 x x x 10 x x\n",
    "\n",
    "Proof:  \n",
    "We will prove this statement by contradiction. Suppose, there exists a circle where every three consecutive integers had a sum less than 17 (less than or equal to 16). In this circle, each integer is part of three different sums. It is part of the sum with the two integers before it. It is part of the sum with the two integers behind it. It is also a part of the sum with the two integers around. \n",
    "\n",
    "Let's look at the integer $10$. $10$, just like every other integer will be apart of three sums:\n",
    "$$\n",
    "(1): w-x-10-y-z \n",
    "$$    \n",
    "Since no integer can be repeated: $w \\neq x \\neq y \\neq z$. It also follows that $w, x, y, z \\leq 5$, since if $w, x, y, z$ were $6$, one could not add another number from the circle and have a sum less than or equal to $16$. It also follows that the sum $w + x$, $x + y$ and $y + z$ all have to be less than or equal to $6$. Because of the aforementioned fact, the sum of all four integers will also have to be less than or equal to $12$. Since, the sum of all four integers will have to be less than or equal to $12$, either $3, 4$ or $5$ will need to be excluded from $w, x, y, z$ ($3 + 4 + 5 = 12$, so adding one more would be greater than $12$). Since we need to select four numbers $w, x, y, z$, from the set ${1, 2, 3, 4, 5}$ and we cannot select $3, 4$ and $5$ (only two out of the three), two out of the four variables need to be $1$ and $2$ respectively. The other two variables will either be $3, 4$ or $5$.\n",
    "\n",
    "Let us now consider the integer $9$. Similarly to $10$, $9$ will also be apart of three sums. \n",
    "$$\n",
    "(2): a-b-9-c-d\n",
    "$$     \n",
    "It is possible for $a + b$ or $c + d$ to overlap with $10$'s pairs. However, it is not possible for $a + b$ and $c + d$ to overlap with both of $10$'s pairs, because that would then be a circle with only $6$ numbers. If we focus on the sum that does not overlap with $10$'s pairs on either side we have: \n",
    "$$\n",
    "(3): a-b-9 \n",
    "$$    \n",
    "$a + b$ must be less than or equal to $7$. Since $1$ and $2$ are already used by the ten's pair we can choose from the set ${3, 4, 5, 6, 7, 8}$. Since two of ${3, 4, 5}$ will already be selected, there is no possible way to select two numbers that sum less than or equal to $7$. The only possible way to get less than or equal to $7$, is if we selected $3$ and $4$, however either $3$ or $4$ will already be selected, so we have a contradiction.    \n",
    "\n",
    "Therefore, by contradiction, we have proven that if the first 10 positive integers are placed around a circle, in any order, there exist three integers in consecutive locations around the circle that have a sum greater than or equal to $17$."
   ]
  },
  {
   "cell_type": "markdown",
   "metadata": {},
   "source": [
    "### Problem 12"
   ]
  },
  {
   "attachments": {},
   "cell_type": "markdown",
   "metadata": {},
   "source": [
    "Prove or disprove that the product of a nonzero rational number and an irrational number is irrational.   \n",
    "\n",
    "\n",
    "\n",
    "\n",
    "Proof: We will prove the aforementioned statement by contradiction. Suppose that the product of a nonzero rational number and an irrational number is rational. Let $a/b$ be a rational number where $a$ and $b$ are both nonzero integers. Let $x$ be an irrational number. Since the product of $a/b$ and $x$ is rational there exists integers $c$ and $d$ such that the following equation is satisfied: $a/b * x = c/d$. Since $a$ is a nonzero integer, we can multiply both sides of the equation by the reciprocal $b/a$, yielding: $x = \\frac{cb}{da}$. Since $a,b,c,d$ are all integers, $cb$ and $da$ will both be integers under closure of integers under multiplication. Also, since $d$ and $a$ are both nonzero integers, it follows that $da$ is nonzero. Hence, $\\frac{cb}{da}$ is rational by definition. However, it is equal to $x$ and $x$ is supposed to be an irrational number, so we have a contradiction. Therefore, we have proven that the product of a nonzero rational number and an irrational number is irrational.        \n",
    "\n",
    "\n"
   ]
  },
  {
   "cell_type": "markdown",
   "metadata": {},
   "source": [
    "\n",
    "\n",
    "\n",
    "By proving the following lemma, I figured out how to prove the proof above and did not need this lemma.   \n",
    "\n",
    "To aid in the following proof I will first prove that an nonzero integer multiplied with an irrational number is irrational. We will prove this by contradiction. Let x be a irrational number, and let y be an  nonzero integer. Suppose, $xy$ is rational, i.e. $x * y = a/b$, where $a$ is some integer and $b$ is some nonzero integer. Dividing both sides by y (y is nonzero by definition) yields: $x = \\frac{a}{by}$. Since $b$ and $y$ are both integers the product $by$ is also an integer under closure of integers under multiplication. Therefore, $\\frac{a}{by}$ is a rational number since $a$ and $by$ are both integers. However, this is equal to $x$ which is irrational, so we have a contradiction. Therefore, a nonzero integer multiplied with an irrational number is irrational."
   ]
  },
  {
   "cell_type": "markdown",
   "metadata": {},
   "source": []
  }
 ],
 "metadata": {
  "kernelspec": {
   "display_name": "venv",
   "language": "python",
   "name": "python3"
  },
  "language_info": {
   "name": "python",
   "version": "3.10.7"
  },
  "orig_nbformat": 4,
  "vscode": {
   "interpreter": {
    "hash": "b8e6c6184714cc602b3105ed1d714e3d882cc05c3a704d1f7f2d44a77c2d128e"
   }
  }
 },
 "nbformat": 4,
 "nbformat_minor": 2
}
