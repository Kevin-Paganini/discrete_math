{
 "cells": [
  {
   "attachments": {},
   "cell_type": "markdown",
   "metadata": {},
   "source": [
    "Name: Kevin Paganini    \n",
    "Class: MA 3320 001   \n",
    "Problem: PA 3    \n",
    "Date: 1.12.2023       \n",
    "Professor: Dr. Cox  "
   ]
  },
  {
   "attachments": {},
   "cell_type": "markdown",
   "metadata": {},
   "source": [
    "Problem Assignment 5 consists of doing Exercise 20 on p. 301 from Section 4.4 of the textbook. Despite what the problem states, for 20 you may solve the system using either method.\n",
    "\n",
    "Also added February 15: You may include a proof for Exercise 40 on p. 302 for extra credit."
   ]
  },
  {
   "attachments": {},
   "cell_type": "markdown",
   "metadata": {},
   "source": [
    "#### Page 301: Exercise 20 "
   ]
  },
  {
   "attachments": {},
   "cell_type": "markdown",
   "metadata": {},
   "source": [
    "#### Chinese Remainder Theorem Method:"
   ]
  },
  {
   "attachments": {},
   "cell_type": "markdown",
   "metadata": {},
   "source": [
    "Use the construction in the proof of the Chinese remainder theorem to find all solutions to the system of congruences $x ≡ 2$ $(mod$ $3)$, $x ≡ 1$ $(mod$ $4)$, and $x ≡ 3$ $(mod$ $5)$.\n",
    "\n",
    "Let $M_1 = 4 * 5$,  $M_2 = 3 * 5$, $M_3 = 3 * 4$. To find the inverse of $M_1$ $mod$ $3$ we use the euclidean algorithm.\n",
    "$$\n",
    "M_1 = 20 ≡ 2 (mod 3)\\\\\n",
    "$$\n",
    "Applying euclidean algorithm with 2 and 3.\n",
    "$$\n",
    "3 = 2 * 1 + 1\\\\\n",
    "3 - (2*1) = 1\n",
    "$$\n",
    "Therefore, $y_1 = -2 ≡ 1$.\n",
    "\n",
    "To find the inverse of $M_2$ $mod$ $4$ we use the euclidean algorithm again:   \n",
    "$$\n",
    "M_2 = 15 ≡ 3 (mod 4)\\\\\n",
    "$$\n",
    "Applying the euclidean algorithm with 3 and 4.\n",
    "$$\n",
    "4 = 3 * 1 + 1\\\\\n",
    "4 - (3*1) = 1\n",
    "$$\n",
    "Therefore, $y_2 = -3 ≡ 1$.     \n",
    "\n",
    "To find the inverse of $M_3$ $mod$ $5$ we use the euclidean algorithm again:   \n",
    "$$\n",
    "M_3 = 12 ≡ 2 (mod 5)\\\\\n",
    "$$\n",
    "Applying the euclidean algorithm with 2 and 5.\n",
    "$$\n",
    "5 = 2 * 2 + 1\\\\\n",
    "5 - (2*2) = 1\n",
    "$$\n",
    "Therefore, $y_3 = -2 ≡ 3$.\n",
    "\n",
    "Since $x = a_1M_1y_1 + a_2M_2y_2 + a_3M_3y_3$. $x = 2 * 20 * -2 + 1 * 15 * 1 + 3 * 12 * 3 = 43$. All solutions will be congruent to $m_1m_2m_3 = 3*4*5 = 60$\n",
    "\n",
    "So the set of all solutions is: $\\{n \\epsilon\\mathbb{Z} | n = 43 + 60k, k \\epsilon\\mathbb{Z}\\}\\blacksquare$"
   ]
  },
  {
   "attachments": {},
   "cell_type": "markdown",
   "metadata": {},
   "source": [
    "#### Back Substitution method"
   ]
  },
  {
   "attachments": {},
   "cell_type": "markdown",
   "metadata": {},
   "source": [
    "An Attempt that doesn't work\n",
    "\n",
    "x = 3t + 2.     \n",
    "3t + 2 ≡ 3 mod 5.    \n",
    "3t = 1 mod 5. The inverse of 3 mod 5 is 7, therefore t is congruent to 7 mod 5 or t = 5u + 2.     \n",
    "Then x = 3 * (5u + 2) + 2 = 15u + 8.    \n",
    "Substituing into the last equation:   \n",
    "\n",
    "15u + 8 is congruent to 1 mod 4. Subtracting 23 yields: 3u ≡ 1 mod 4 \n",
    "u is congruent 3\n",
    "\n"
   ]
  },
  {
   "cell_type": "markdown",
   "metadata": {},
   "source": []
  },
  {
   "cell_type": "markdown",
   "metadata": {},
   "source": []
  },
  {
   "attachments": {},
   "cell_type": "markdown",
   "metadata": {},
   "source": [
    "#### Page 302: Exercise 40"
   ]
  },
  {
   "attachments": {},
   "cell_type": "markdown",
   "metadata": {},
   "source": [
    "Show with the help of Fermat’s little theorem that if n is a positive integer, then $42$ divides $n^7 − n$."
   ]
  },
  {
   "attachments": {},
   "cell_type": "markdown",
   "metadata": {},
   "source": [
    "#### Analysis:  \n",
    "Fermats little theorem: Let p be a prime number. Let a be an integer that is not divisible by p, then $a^p - a ≡ 0$ $($ $mod$ $p)$\n",
    "\n",
    "#### Proof\n",
    "Since the prime factorization of $42 = 3 * 2 * 7$, it is sufficient to prove that $2, 3, 7$ divide $n^7 - n$.    \n",
    "Case 1 ($mod$ $7$): Fermats little theorem states that if $p$ is a prime number and $a$ is an integer that is not divisible by $p$, then $a^p ≡ a$ $($ $mod$ $p)$, which is equivalent to: $a^p - a ≡ 0$ $($ $mod$ $p)$. In this case $p = 7$. Therefore, it follows from fermats little theorem that $n^7 - n≡ 0$ $($ $mod$ $7)$. Hence, $n^7 - n$ is divisbile by 7.    \n",
    "Case 2 ($mod$ $3$): Fermat's little theorem ensures that $n^3 - n≡ 0$ $($ $mod$ $3)$. Rewriting $n^7 - n$ yields: $n^7 - n = n * (n^6 - 1) = n * ((n^2)^3 - 1) = n * (n^2 - 1)* (n^4+n^2+1) = (n^3-n)(n^4+n^2+1)$. Since $n^3-n$ is a factor of $n^7 - n$ and $n^3 - n≡ 0$ $($ $mod$ $3)$, 3 divides $n^7 - n$.     \n",
    "Case 3 ($mod$ $2$): First, assume $n$ is an even integer. This means that $n^7$ is even, since an even number multiplied with another even number is always even (by a previous parity result). Subtracting an even number from another even number always results in an even number hence $n^7 - n$ is even (by a previous parity result). Next assume, $n$ is an odd number This means that $n^7$ is odd, since an odd number multiplied with another odd number is always odd (by a previous parity result). Subtracting an odd number from another odd number always results in an even number (by a previous parity result), hence $n^7 - n$ is even. In either case, $n^7 - n$ is divisible by 2. \n",
    "\n",
    "Finally, since we have proved that $n^7 - n$ is divisible by $2, 3$, and $7$, we have proven that for any positive integer $n$, that $42$ divides $n^7 - n$."
   ]
  },
  {
   "cell_type": "markdown",
   "metadata": {},
   "source": []
  }
 ],
 "metadata": {
  "kernelspec": {
   "display_name": "venv",
   "language": "python",
   "name": "python3"
  },
  "language_info": {
   "name": "python",
   "version": "3.10.7"
  },
  "orig_nbformat": 4,
  "vscode": {
   "interpreter": {
    "hash": "b8e6c6184714cc602b3105ed1d714e3d882cc05c3a704d1f7f2d44a77c2d128e"
   }
  }
 },
 "nbformat": 4,
 "nbformat_minor": 2
}
